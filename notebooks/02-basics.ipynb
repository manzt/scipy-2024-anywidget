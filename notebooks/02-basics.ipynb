{
 "cells": [
  {
   "cell_type": "markdown",
   "id": "f38f6d9c-002b-4ca4-8c1a-79b9e68fca80",
   "metadata": {},
   "source": [
    "# The Basics\n",
    "\n",
    "In this notebook, you will build your first **anywidget** 🎸.\n",
    "\n",
    "The goal of this section is to teach you the core APIs and concepts for creating an anywidget, namely:\n",
    "\n",
    "- The front-end `render` function: Display content on the screen and communicate with Python.\n",
    "- Traitlets: Share data variables between Python and JavaScript.\n",
    "- Apply styles to a widget.\n",
    "- Import third-party JavaScript dependencies.\n",
    "\n",
    "With these basics, you'll be ready to start building interactive anywidgets of your own.\n",
    "\n",
    "We'll start by importing anywidget and traitlets:"
   ]
  },
  {
   "cell_type": "code",
   "execution_count": null,
   "id": "59275f5e-2fa9-4a6d-aa37-845c68af45c6",
   "metadata": {},
   "outputs": [],
   "source": [
    "import anywidget\n",
    "import traitlets"
   ]
  },
  {
   "cell_type": "markdown",
   "id": "93cf2d37-11cc-41b4-9dc2-b11f94a0f151",
   "metadata": {},
   "source": [
    "## 1. Hello, Widget\n",
    "\n",
    "The most essential components of an custom anywidget are **ESM** front-end code and **traitlets**. \n",
    "The `AnyWidget` class combines these into one object, letting you define a widget inline in a few lines of code.\n",
    "\n",
    "The shape of a custom widget will look something like this:\n",
    "\n",
    "```python\n",
    "class MyCustomWidget(anywidget.AnyWidget):\n",
    "    _esm = \"\"\"\n",
    "    function render() { }\n",
    "    export default { render };\n",
    "    \"\"\"\n",
    "    some_data = traitlets.Int().tag(sync=True)\n",
    "    some_other_data = traitlets.Unicode().tag(sync=True)\n",
    "```\n",
    "\n",
    "Let's take a look at these pieces, one at a time."
   ]
  },
  {
   "cell_type": "markdown",
   "id": "52b94b95-87bb-4cfb-b1d0-f3e8a31cdcb9",
   "metadata": {},
   "source": [
    "### The `render` function\n",
    "\n",
    "**anywidget**'s primary requirement is that you define `_esm`, a standard JavaScript module to be executed in the notebook front end. In the notebook, we can easily write a bit of this code as an inline string.\n",
    "\n",
    "The `_esm` _exports_ a special function called `render`, which the notebook front-end \n",
    "will execute anytime the widget is displayed.\n",
    "\n",
    "Run some JavaScript!\n",
    "\n",
    "Let's add the boilerplate to make a custom widget:"
   ]
  },
  {
   "cell_type": "markdown",
   "id": "4db70ea8-04f2-4328-847d-04e00fb3a4a6",
   "metadata": {},
   "source": [
    "#### Exercise 1 - Captain's log\n",
    "\n",
    "Here we have a basic scaffold for a widget. In the front-end code, use [`console.log`](https://developer.mozilla.org/en-US/docs/Web/API/console/log_static) to print \"Hello from anywidget!\" to the  browser console. When you have finished, open the [Chrome Developer Tools](https://developer.chrome.com/docs/devtools/open):\n",
    "\n",
    "- Windows or Linux: `Ctrl + Shift + J`\n",
    "- Mac `Cmd + Option + J`\n",
    "\n",
    "After running the cell, open the Console and check for the message \"Hello from anywidget!\". Keep `console.log` in your back pocket as it will be helpful for debugging and inspecting code in the front end."
   ]
  },
  {
   "cell_type": "code",
   "execution_count": null,
   "id": "350b7328-26ed-45d0-84a4-85b7b7995ba5",
   "metadata": {},
   "outputs": [],
   "source": [
    "# Exercise 1\n",
    "\n",
    "class Widget(anywidget.AnyWidget):\n",
    "    _esm = \"\"\"\n",
    "    function render() {\n",
    "      // Task: print \"Hello from anywidget!\" to the browser console\n",
    "      \n",
    "    }\n",
    "    export default { render }\n",
    "    \"\"\"\n",
    "    \n",
    "Widget()"
   ]
  },
  {
   "cell_type": "code",
   "execution_count": null,
   "id": "5c2905e9-2308-4f5e-be4f-fa25b5be1352",
   "metadata": {},
   "outputs": [],
   "source": [
    "%load ./answers/02-01.py"
   ]
  },
  {
   "attachments": {},
   "cell_type": "markdown",
   "id": "be413c35-7eaf-44c0-b7e6-160dce7fbb2e",
   "metadata": {},
   "source": [
    "### Creating and appending DOM elements\n",
    "\n",
    "Ok, so we got some code to run, nice. For some of you, that might be the first JavaScript you've ever written!\n",
    "\n",
    "But nothing shows up on the screen. Remember, we want to display something for the class we are creating in the notebook output. The `render` function is responsible for **creating** the front-end content to display for our widget and **appending** that content to the web page's [Document Object Model](https://developer.mozilla.org/en-US/docs/Web/API/Document_Object_Model) (DOM).\n",
    "\n",
    "<div style=\"text-align: center;\">\n",
    "<img src=\"https://upload.wikimedia.org/wikipedia/commons/thumb/5/5a/DOM-model.svg/2880px-DOM-model.svg.png\" width=\"300\">\n",
    "</div>\n",
    "\n",
    "We can **create** elements in JavaScript via [`document.createElement`](https://developer.mozilla.org/en-US/docs/Web/API/Document/createElement), which creates new [HTML elements](https://developer.mozilla.org/en-US/docs/Web/HTML/Element) for the page. For example, we can create a paragraph element and set its inner text as follows:\n",
    "\n",
    "```js\n",
    "const p = document.createElement(\"p\");\n",
    "p.innerText = \"Hello, anywidget\";\n",
    "```\n",
    "\n",
    "To view this new paragraph element, it needs to be **appended** to another HTML element currently in the DOM. For example, we could append this to the current web page body with:\n",
    "\n",
    "```js\n",
    "document.body.appendChild(p);\n",
    "```\n",
    "\n",
    "However, for our widget, we probably don't want to append to the body because that's not where we want the output (it would be at the bottom of the page). Instead, it would be nice if we had access to the HTML element where the notebook output cell is for our widget. Well we do:\n",
    "\n",
    "```js\n",
    "function render({ el }) {\n",
    "               // ^ HTMLElement for the notebook cell output for our widget\n",
    "}\n",
    "export default { render };\n",
    "```\n",
    "\n",
    "The `render` function gets `el` as an argument, which is the HTML element for the notebook cell output. This allows us to append any content we create directly to the cell output area."
   ]
  },
  {
   "cell_type": "markdown",
   "id": "946cc46e-d886-486b-b91b-6c742b2d0456",
   "metadata": {},
   "source": [
    "#### Exercise 2 - Get into your element\n",
    "\n",
    "In the `render` function above:\n",
    "\n",
    "- Create an `h1` header element\n",
    "- Set the text to \"Hello anywidget!\"\n",
    "- Append the element you created to the notebook output\n",
    "\n",
    "When finished, run the cell and you should see \"Hello, anywidget!\" in large bold letters."
   ]
  },
  {
   "cell_type": "code",
   "execution_count": null,
   "id": "1899f4dc-6f06-4bb1-8774-da80aa4d8488",
   "metadata": {},
   "outputs": [],
   "source": [
    "# Exercise 2\n",
    "\n",
    "class Widget(anywidget.AnyWidget):\n",
    "    _esm = \"\"\"\n",
    "    function render({ el }) {\n",
    "\n",
    "    }\n",
    "    export default { render };\n",
    "    \"\"\"\n",
    "\n",
    "Widget()"
   ]
  },
  {
   "cell_type": "code",
   "execution_count": null,
   "id": "8e7b2b1a-87fc-45f2-9360-f4ae3f91b358",
   "metadata": {},
   "outputs": [],
   "source": [
    "%load ./answers/02-02.py"
   ]
  },
  {
   "cell_type": "markdown",
   "id": "7885e4e7-4afd-4e50-b673-317d54ee8a7b",
   "metadata": {},
   "source": [
    "### Getting data from Python\n",
    "\n",
    "So far, everything we have done is entirely in the front end. If we wanted to update the `h1` we created \n",
    "above, we'd need to edit the `class` definiton itself and redefine a new `_esm` string.\n",
    "\n",
    "On the Python side, **traitlets** give us the ability to declare pieces of data (or \"state\") on\n",
    "our widget that should be share _and_ synchronized between Python and JavaScript.\n",
    "\n",
    "For example, we can define an integer attribute `my_value`:\n",
    "\n",
    "```python\n",
    "class Widget(anywidget.AnyWidget):\n",
    "    _esm = \"...\"\n",
    "    my_value = traitlets.Int(0).tag(sync=True)\n",
    "```\n",
    "\n",
    "> Note: the `sync=True` metadata for the traitlet is required to have the data\n",
    "\n",
    "Which we can initialize and/or update on the Python side:\n",
    "\n",
    "```python\n",
    "widget = Widget(my_value=42)\n",
    "\n",
    "widget.my_value = 123\n",
    "```\n",
    "\n",
    "On the front end, we can access `my_value` trait through the `model`, another object provided through \n",
    "the `render` function:\n",
    "\n",
    "```javascript\n",
    "function render({ model, el }) {\n",
    "    let my_value = model.get(\"my_value\"); // get the current value\n",
    "}\n",
    "```\n",
    "\n",
    "Let's try to update our previous widget to use traitlets!"
   ]
  },
  {
   "cell_type": "markdown",
   "id": "2c5faf20-513c-4d31-a250-02abff877183",
   "metadata": {},
   "source": [
    "#### Exercise 3 - Syncing state with traitlets\n",
    "\n",
    "Convert the above widget to use traitlets \n",
    "\n",
    "- Create a string `name` traitlet\n",
    "- Get the `name` in the front end and display \"Hello, \\<name\\>!\"\n",
    "\n",
    "> Hint: The traitlet for strings is [`Unicode`](https://traitlets.readthedocs.io/en/stable/trait_types.html#strings)"
   ]
  },
  {
   "cell_type": "code",
   "execution_count": null,
   "id": "991177bf-4fb4-4b45-b801-e882217e0327",
   "metadata": {},
   "outputs": [],
   "source": [
    "# Exercise 3\n",
    "\n",
    "class Widget(anywidget.AnyWidget):\n",
    "    _esm = \"\"\"\n",
    "    function render({ model, el }) {\n",
    "        const h1 = document.createElement(\"h1\");\n",
    "        h1.innerText = \"Hello, anywidget!\";\n",
    "        el.appendChild(h1);\n",
    "    }\n",
    "    export default { render };\n",
    "    \"\"\"\n",
    "\n",
    "Widget()"
   ]
  },
  {
   "cell_type": "code",
   "execution_count": null,
   "id": "670ceecf-42e7-4c20-ba00-b369f8c61632",
   "metadata": {},
   "outputs": [],
   "source": [
    "%load ./answers/02-03.py"
   ]
  },
  {
   "cell_type": "markdown",
   "id": "cd1abdf4-aa64-417d-8fab-5e47f7f840f5",
   "metadata": {},
   "source": [
    "### Conclusion\n",
    "\n",
    "You've now learned the two core APIs in the `anywidget` front end: `model` and `el`.\n",
    "\n",
    "Together, they provide the minimal set of APIs for building notebook integrations, boiling down to:\n",
    "\n",
    "- Communicating with the Jupyter Kernel (`model`)\n",
    "- Modifying the notebook output cells in the DOM (`el`)\n",
    "\n"
   ]
  },
  {
   "cell_type": "markdown",
   "id": "4fb0c1a5-fbda-4d87-9f08-96d53f4f3373",
   "metadata": {},
   "source": [
    "## 2. Two-way binding: a click counter\n",
    "\n",
    "In this section, we will create a counter widget. The counter keeps an integer count, which is synchronized between the front end and kernel. Any time the button is clicked in the front end, the count increments by 1 in Python as well. If the count is set in Python, it updates the front end.\n",
    "\n",
    "This simple example is in the **anywidget** documentation because it demonstrates a core concept succinctly: two-way data binding.\n",
    "\n",
    "### UI elements\n",
    "\n",
    "We'll build the example from scratch and explain what two-way data binding is."
   ]
  },
  {
   "cell_type": "markdown",
   "id": "59d29944-6444-480b-adc5-573b33b8668e",
   "metadata": {},
   "source": [
    "#### Exercise 4 - Set up a button\n",
    "\n",
    "- Change the `h1` into a `button` element\n",
    "- Change the `name` traitlet to an integer `count`\n",
    "- Set the text of the `button` to be \"Count is \\<count\\>\""
   ]
  },
  {
   "cell_type": "code",
   "execution_count": null,
   "id": "f441a471-5c76-4ea7-aa85-0b7ed71e4c55",
   "metadata": {},
   "outputs": [],
   "source": [
    "# Excercise 4\n",
    "\n",
    "class Widget(anywidget.AnyWidget):\n",
    "    _esm = \"\"\"\n",
    "    function render({ model, el }) {\n",
    "        const h1 = document.createElement(\"h1\");\n",
    "        h1.innerText = `Hello, ${model.get(\"name\")}`;\n",
    "        el.appendChild(h1);\n",
    "    }\n",
    "\n",
    "    export default { render };\n",
    "    \"\"\"\n",
    "    name = traitlets.Unicode().tag(sync=True)\n",
    "\n",
    "Widget()"
   ]
  },
  {
   "cell_type": "code",
   "execution_count": null,
   "id": "8bb60e19-d88a-4cb5-b8be-6d6b790d2c17",
   "metadata": {},
   "outputs": [],
   "source": [
    "%load ./answers/02-04.py"
   ]
  },
  {
   "cell_type": "markdown",
   "id": "716fb6c1-2bd5-46bb-8f6a-ec4991497d85",
   "metadata": {},
   "source": [
    "### Monitoring clicks\n",
    "\n",
    "To track button clicks, we need to subscribe to [\"click\" events](https://developer.mozilla.org/en-US/docs/Web/API/Element/click_event) on the `button` element. All HTML elements are web [`EventTarget`](https://developer.mozilla.org/en-US/docs/Web/API/EventTarget)s, so we can use the [`addEventListener` API](https://developer.mozilla.org/en-US/docs/Web/API/EventTarget/addEventListener) to subscribe a callback, which executes any time the event occurs (i.e., a \"click\").\n",
    "\n",
    "For example, we can add a \"click\" event listener to the `body` of the current page:\n",
    "\n",
    "```javascript\n",
    "document.body.addEventListener(\"click\", () => {\n",
    "    console.log(\"clicked the body element.\")\n",
    "});\n",
    "```\n",
    "\n",
    "and log to the console anytime the page is clicked.\n",
    "\n",
    "If you are new to JavaScript, this `() => {}` notation might be a bit confusing. These are called _arrow \n",
    "functions_ (hence the `=>`) and provide a more succinct way to write functions (simliar to Python `lambda`). The above is functionally equivalent to:\n",
    "\n",
    "```javascript\n",
    "document.body.addEventListener(\"click\", function () {\n",
    "    console.log(\"clicked the body element.\")\n",
    "});\n",
    "```\n",
    "\n",
    "Click is just one type of event you can monitor for an element; there are many more like `mouseover`, `keydown`, etc."
   ]
  },
  {
   "cell_type": "markdown",
   "id": "bbd9bf90-617a-46d8-ab3e-6d756ad7b4f7",
   "metadata": {},
   "source": [
    "#### Exercise 5 - Listen to events from the browser\n",
    "\n",
    "- Add an \"click\" event listener to our `button`\n",
    "- console.log \"clicked\" every time the button is clicked"
   ]
  },
  {
   "cell_type": "code",
   "execution_count": null,
   "id": "55e2592a-2e10-4b99-9b8c-81811677475c",
   "metadata": {},
   "outputs": [],
   "source": [
    "# Excercise 5\n",
    "\n",
    "class Widget(anywidget.AnyWidget):\n",
    "    _esm = \"\"\"\n",
    "    function render({ model, el }) {\n",
    "        const btn = document.createElement(\"button\");\n",
    "        btn.innerText = `Count is ${model.get(\"count\")}`;\n",
    "        el.appendChild(btn);\n",
    "    }\n",
    "\n",
    "    export default { render };\n",
    "    \"\"\"\n",
    "    count = traitlets.Int().tag(sync=True)\n",
    "\n",
    "Widget()"
   ]
  },
  {
   "cell_type": "code",
   "execution_count": null,
   "id": "9cfeb8fd-8a45-4d73-bc81-8cc10a8455e5",
   "metadata": {},
   "outputs": [],
   "source": [
    "%load ./answers/02-05.py"
   ]
  },
  {
   "cell_type": "markdown",
   "id": "888da625-618e-4e93-85a9-9c92daf7691c",
   "metadata": {},
   "source": [
    "### Sending count to Python\n",
    "\n",
    "So far we've received data from Python, but we haven't set anything back. Remember the `model` is responsible for communicating with the kernel. \n",
    "\n",
    "Not only does it support _getting_ state but also _setting_ state:\n",
    "\n",
    "```javascript\n",
    "function render({ model, el }) {\n",
    "    model.set(\"my_value\", 42); // set the value in the front end\n",
    "    model.save_changes();      // synchronize the current state with Python\n",
    "}\n",
    "```\n",
    "\n",
    "Let's update our counter to set the model state for count."
   ]
  },
  {
   "cell_type": "markdown",
   "id": "8b514387-d387-4334-81a3-e48078f18b02",
   "metadata": {},
   "source": [
    "#### Exercise 6 - Setting state from the front end\n",
    "\n",
    "Within the event listener:\n",
    "\n",
    "- Set the \"count\" on the model to the value plus one (i.e., increment the count)\n",
    "- Save the changes with Python to sync the model\n",
    "\n",
    "If done correctly, we chould we able to click the button in the front \n",
    "end and see `widget.count` change when we run the notebook cell."
   ]
  },
  {
   "cell_type": "code",
   "execution_count": null,
   "id": "789311dc-eb2f-4ea0-bddb-f6691d232c3e",
   "metadata": {},
   "outputs": [],
   "source": [
    "# Excercise 6\n",
    "\n",
    "class Widget(anywidget.AnyWidget):\n",
    "    _esm = \"\"\"\n",
    "    function render({ model, el }) {\n",
    "        const btn = document.createElement(\"button\");\n",
    "        btn.innerText = `Count is ${model.get(\"count\")}`;\n",
    "        btn.addEventListener(\"click\", () => {\n",
    "            console.log(\"clicked\");\n",
    "        });\n",
    "        el.appendChild(btn);\n",
    "    }\n",
    "    export default { render };\n",
    "    \"\"\"\n",
    "    count = traitlets.Int().tag(sync=True)\n",
    "\n",
    "widget = Widget()\n",
    "widget"
   ]
  },
  {
   "cell_type": "code",
   "execution_count": null,
   "id": "7080171f-6a20-4783-b1c8-cbe53fe03b50",
   "metadata": {},
   "outputs": [],
   "source": [
    "widget.count # click the button a few of times and then run this cell"
   ]
  },
  {
   "cell_type": "code",
   "execution_count": null,
   "id": "0e22e3c3-a4bd-4891-af4c-03cee1e96c01",
   "metadata": {},
   "outputs": [],
   "source": [
    "%load ./answers/02-06.py"
   ]
  },
  {
   "cell_type": "markdown",
   "id": "27089318-428a-42d1-847c-adf9d1f31315",
   "metadata": {},
   "source": [
    "### Closing the loop\n",
    "\n",
    "Our button is getting close, but notice that we are never updating the text in the \n",
    "front end when the count changes.\n",
    "\n",
    "Perhaps we could also set the `innerText` in the event listener:\n"
   ]
  },
  {
   "cell_type": "code",
   "execution_count": null,
   "id": "5c3d4767-644f-4c7a-8992-d38e03dcf6a8",
   "metadata": {},
   "outputs": [],
   "source": [
    "class Widget(anywidget.AnyWidget):\n",
    "    _esm = \"\"\"\n",
    "    function render({ model, el }) {\n",
    "        const btn = document.createElement(\"button\");\n",
    "        btn.innerText = `Count is ${model.get(\"count\")}`;\n",
    "        btn.addEventListener(\"click\", () => {\n",
    "            const new_count = model.get(\"count\") + 1;\n",
    "            btn.innerText = `Count is ${new_count}`;\n",
    "            model.set(\"count\", new_count);\n",
    "            model.save_changes();\n",
    "        });\n",
    "        el.appendChild(btn);\n",
    "    }\n",
    "\n",
    "    export default { render };\n",
    "    \"\"\"\n",
    "    count = traitlets.Int().tag(sync=True)\n",
    "\n",
    "widget = Widget()\n",
    "widget"
   ]
  },
  {
   "cell_type": "markdown",
   "id": "6f11dc17-ad41-47d8-b498-607f4cbfcc21",
   "metadata": {},
   "source": [
    "This seems to work fine. When we click the button, it increments in the UI.\n",
    "\n",
    "Can anyone spot the bug?\n",
    "\n",
    "Remember that widgets also respond to events from the kernel. We haven't written any code in to respond to those changes, only click events in the front end.\n",
    "\n",
    "Instead, we should use the `model.on` method to listen for changes to the `count`. \n",
    "\n",
    "\n",
    "For example, we can subscribe to changes for a trait called `my_value` with:\n",
    "\n",
    "\n",
    "```javascript\n",
    "function render({ model, el }) {\n",
    "    \n",
    "    model.on(\"change:my_value\", () => {\n",
    "        let update = model.get(\"my_value\");\n",
    "        // do something with the update\n",
    "    });\n",
    "    \n",
    "}\n",
    "```\n",
    "\n",
    "\n",
    "In the snippet above, the event handler is called whenever `my_value` is updated from either \n",
    "Python or the front-end code. \n",
    "\n",
    "**By treating the `model` as the source of truth, regardless \n",
    "of whether `my_value` is updated on the  Python side or the JavaScript side, `my_value` \n",
    "stays up to date and correct.**\n"
   ]
  },
  {
   "cell_type": "markdown",
   "id": "14f710e3-443f-4ab7-992f-72275a9666d5",
   "metadata": {},
   "source": [
    "#### Exercise 7 - Listen to state updates from the model\n",
    "\n",
    "Let's fix this bug!\n",
    "\n",
    "- Use `model.on` to listen to changes for `count` and update the displayed count\n",
    "\n",
    "Once completed you should be able to run the cell above, and update the count from the cell below:"
   ]
  },
  {
   "cell_type": "code",
   "execution_count": null,
   "id": "1585b28c-397a-4654-97f6-f4bb6c3082a1",
   "metadata": {},
   "outputs": [],
   "source": [
    "# Exercise 7\n",
    "\n",
    "class Widget(anywidget.AnyWidget):\n",
    "    _esm = \"\"\"\n",
    "    function render({ model, el }) {\n",
    "        const btn = document.createElement(\"button\");\n",
    "        btn.innerText = `Count is ${model.get(\"count\")}`;\n",
    "        btn.addEventListener(\"click\", () => {\n",
    "            const new_count = model.get(\"count\") + 1;\n",
    "            btn.innerText = `Count is ${new_count}`;\n",
    "            model.set(\"count\", new_count);\n",
    "            model.save_changes();\n",
    "        });\n",
    "        el.appendChild(btn);\n",
    "    }\n",
    "\n",
    "    export default { render };\n",
    "    \"\"\"\n",
    "    count = traitlets.Int().tag(sync=True)\n",
    "\n",
    "widget = Widget()\n",
    "widget"
   ]
  },
  {
   "cell_type": "code",
   "execution_count": null,
   "id": "e0302973-4145-4cf0-9f8b-51d94a864c4a",
   "metadata": {},
   "outputs": [],
   "source": [
    "widget.count = 42 # should update the above UI to \"Count is 42\""
   ]
  },
  {
   "cell_type": "code",
   "execution_count": null,
   "id": "af0c86b6-828a-4bd4-b828-53e17818ad19",
   "metadata": {},
   "outputs": [],
   "source": [
    "%load ./answers/02-07.py"
   ]
  },
  {
   "cell_type": "markdown",
   "id": "b4d2ed6b-0423-4939-bc4c-4379ebce6c20",
   "metadata": {},
   "source": [
    "### Make it pretty 💅\n",
    "\n",
    "**anywidget** also has an API for styling to your widgets with CSS. We don't have time to go too deep into the exercises here, but similar to `_esm`, you can provide CSS stylesheets through `_css`, and **anwyidget** will take care of applying them to the DOM.\n",
    "\n",
    "One important note: currently, **anywidget** appends styles to the root of the document, which means you could override other styles.\n",
    "\n",
    "To avoid this, it's best practice to add a CSS class in JavaScript to the root `el`, and then write your styles in a way that is scoped to that element or class.\n",
    "\n",
    "There are plenty of resources to learn more about CSS (LLMs are good at it too), but below you can try changing the font size, background color, etc."
   ]
  },
  {
   "cell_type": "code",
   "execution_count": null,
   "id": "2937e944-a7f4-4ea4-9b12-8a964d9b9793",
   "metadata": {},
   "outputs": [],
   "source": [
    "import anywidget\n",
    "import traitlets\n",
    "\n",
    "class StyledWidget(anywidget.AnyWidget):\n",
    "    _esm = \"\"\"\n",
    "    function render({ model, el }) {\n",
    "        const btn = document.createElement(\"button\");\n",
    "        btn.innerText = `Count is ${model.get(\"count\")}`;\n",
    "        btn.addEventListener(\"click\", () => {\n",
    "            model.set(\"count\", model.get(\"count\") + 1);\n",
    "            model.save_changes();\n",
    "        });\n",
    "        model.on(\"change:count\", () => {\n",
    "            btn.innerText = `Count is ${model.get(\"count\")}`;\n",
    "        });\n",
    "        el.appendChild(btn);\n",
    "        el.classList.add(\"styled-widget\");\n",
    "    }\n",
    "    export default { render };\n",
    "    \"\"\"\n",
    "    _css = \"\"\"\n",
    "    .styled-widget button {\n",
    "        font-size: 20px;\n",
    "        background-color: #4CAF50;\n",
    "        color: white;\n",
    "        padding: 10px 24px;\n",
    "        border: none;\n",
    "        cursor: pointer;\n",
    "    }\n",
    "    .styled-widget button:hover {\n",
    "        background-color: #45a049;\n",
    "    }\n",
    "    \"\"\"\n",
    "    count = traitlets.Int(0).tag(sync=True)\n",
    "\n",
    "StyledWidget()"
   ]
  },
  {
   "cell_type": "markdown",
   "id": "a7418482-c2c1-4f19-a940-b93cd5121494",
   "metadata": {},
   "source": [
    "#### Exercise 8 - Style my widget\n",
    "\n",
    "Customize your button as you like!"
   ]
  },
  {
   "cell_type": "code",
   "execution_count": null,
   "id": "a07bdd3f-b81c-43b3-a2b4-ee501e2ce123",
   "metadata": {},
   "outputs": [],
   "source": [
    "%load ./answers/02-08.py"
   ]
  },
  {
   "cell_type": "markdown",
   "id": "c19b9660-b02b-4967-8b08-8c5b4c7ed07b",
   "metadata": {},
   "source": [
    "### Import third-party libraries\n",
    "\n",
    "So far everything we've done has been using vanilla JS and APIs that are built into the browser. However, there is a _huge_ ecosystem of interactive JavaScript vsiauzation libraries and tools that can we connected with notebooks as widgets.\n",
    "\n",
    "ECMAScript modules are the offical standard format to package JavaScript code for reuse and are supported natively across all major browsers. Therefore, dependencies can be imported directly via a fully qualified URL.\n",
    "\n",
    "\n",
    "For example, you can use the popular `d3` visualization library with anywidget just by including an IMPORT from a ESM friendly CDN:\n",
    "\n",
    "```javascript\n",
    "import * as d3 from \"https://esm.sh/d3@7\";\n",
    "\n",
    "function render({ model, el }) {\n",
    "\tlet selection = d3.select(el);\n",
    "\t/* ... */\n",
    "}\n",
    "export default { render };\n",
    "```\n",
    "\n",
    "A fun little library is `canvas-confetti`, which is confetti cannon. You can import it in ESM:\n",
    "\n",
    "```javascript\n",
    "import confetti from \"https://esm.sh/canvas-confetti@1\";\n",
    "\n",
    "confetti() // 🎉🎉🎉\n",
    "```"
   ]
  },
  {
   "cell_type": "markdown",
   "id": "1e254496-8e42-4af5-acf5-7b6ce0a4fc20",
   "metadata": {},
   "source": [
    "#### Exercise 9 - Celebrate!\n",
    "\n",
    "Modify the widget above to shoot confetti any time the count changes\n",
    "\n",
    "> **Bonus**: The `confetti` function takes an object as an argument with `confetti({ angle: <number> })`. See if you can do something fun with the count and the angle."
   ]
  },
  {
   "cell_type": "code",
   "execution_count": null,
   "id": "9590ec74-064a-4ff5-aeff-b2c641049b2c",
   "metadata": {},
   "outputs": [],
   "source": [
    "# Exercise 9\n",
    "\n",
    "class ConfettiWidget(anywidget.AnyWidget):\n",
    "    _esm = \"\"\"\n",
    "    function render({ model, el }) {\n",
    "        const btn = document.createElement(\"button\");\n",
    "        btn.innerText = `Count is ${model.get(\"count\")}`;\n",
    "        btn.addEventListener(\"click\", () => {\n",
    "            model.set(\"count\", model.get(\"count\") + 1);\n",
    "            model.save_changes();\n",
    "        });\n",
    "        model.on(\"change:count\", () => {\n",
    "            btn.innerText = `Count is ${model.get(\"count\")}`;\n",
    "        });\n",
    "        el.appendChild(btn);\n",
    "    }\n",
    "    export default { render };\n",
    "    \"\"\"\n",
    "    count = traitlets.Int(0).tag(sync=True)\n",
    "\n",
    "ConfettiWidget()"
   ]
  },
  {
   "cell_type": "code",
   "execution_count": null,
   "id": "2199dd0f-fcdf-426e-af15-d12808cef714",
   "metadata": {},
   "outputs": [],
   "source": [
    "%load ./answers/02-09.py"
   ]
  },
  {
   "cell_type": "markdown",
   "id": "e9de4e8b-bb17-4c85-9ef7-215f20b12055",
   "metadata": {},
   "source": [
    "## 3. Composition with ipywidgets\n",
    "\n",
    "The widgets we've created in this notebook will work in many notebook environments. You can copy and paste the code above directly into Google Colab, and it will just work. Give it a try!\n",
    "\n",
    "Additionally, since **anywidget** shares an architecture with `ipywidgets`, they can be composed together in notebooks. This means you can pip install anywidgets and ipywidgets and connect them in interesting ways.\n",
    "\n",
    "For example, we can link a slider to our counter button:"
   ]
  },
  {
   "cell_type": "code",
   "execution_count": null,
   "id": "f9334125-96ad-4e02-aad7-bdaf9f73afa1",
   "metadata": {},
   "outputs": [],
   "source": [
    "import ipywidgets\n",
    "\n",
    "button = ConfettiWidget()\n",
    "button"
   ]
  },
  {
   "cell_type": "code",
   "execution_count": null,
   "id": "dc07cced-6042-425a-8ed1-da304fb1f495",
   "metadata": {},
   "outputs": [],
   "source": [
    "slider = ipywidgets.IntSlider()\n",
    "slider"
   ]
  },
  {
   "cell_type": "code",
   "execution_count": null,
   "id": "7bf2d0a2-2a87-4e92-a931-3649df29ba3b",
   "metadata": {},
   "outputs": [],
   "source": [
    "ipywidgets.link((button, \"count\"), (slider, \"value\"))"
   ]
  },
  {
   "cell_type": "code",
   "execution_count": null,
   "id": "c11f14fe-81c9-490f-8928-518c18b287e3",
   "metadata": {},
   "outputs": [],
   "source": []
  }
 ],
 "metadata": {
  "kernelspec": {
   "display_name": "Python 3 (ipykernel)",
   "language": "python",
   "name": "python3"
  },
  "language_info": {
   "codemirror_mode": {
    "name": "ipython",
    "version": 3
   },
   "file_extension": ".py",
   "mimetype": "text/x-python",
   "name": "python",
   "nbconvert_exporter": "python",
   "pygments_lexer": "ipython3",
   "version": "3.12.3"
  },
  "widgets": {
   "application/vnd.jupyter.widget-state+json": {
    "state": {
     "0a773248b05647609f77ead0cca63aaf": {
      "model_module": "@jupyter-widgets/base",
      "model_module_version": "2.0.0",
      "model_name": "LayoutModel",
      "state": {}
     },
     "194387eece1449f7a1bfc181b9b26b12": {
      "model_module": "@jupyter-widgets/base",
      "model_module_version": "2.0.0",
      "model_name": "LayoutModel",
      "state": {}
     },
     "2e0b50cd6c424893bd0e4ee07726122b": {
      "model_module": "anywidget",
      "model_module_version": "~0.9.*",
      "model_name": "AnyModel",
      "state": {
       "_anywidget_id": "__main__.Widget",
       "_esm": "\n    export function render({ model, el }) {\n        const btn = document.createElement(\"button\");\n        btn.innerText = `Count is ${model.get(\"count\")}`;\n        btn.addEventListener(\"click\", () => {\n            const new_count = model.get(\"count\") + 1;\n            btn.innerText = `Count is ${new_count}`;\n            model.set(\"count\", new_count);\n            model.save_changes();\n        });\n        el.appendChild(btn);\n    }\n    ",
       "_model_module": "anywidget",
       "_model_module_version": "~0.9.*",
       "_model_name": "AnyModel",
       "_view_module": "anywidget",
       "_view_module_version": "~0.9.*",
       "_view_name": "AnyView",
       "count": 0,
       "layout": "IPY_MODEL_5bec5d68f1604be9b242dfc6a1f5534c"
      }
     },
     "5bec5d68f1604be9b242dfc6a1f5534c": {
      "model_module": "@jupyter-widgets/base",
      "model_module_version": "2.0.0",
      "model_name": "LayoutModel",
      "state": {}
     },
     "74cc123c2c7641149fcbd962f382b7a2": {
      "model_module": "@jupyter-widgets/base",
      "model_module_version": "2.0.0",
      "model_name": "LayoutModel",
      "state": {}
     },
     "9c4ce6254e55468a86d82844ded0b42b": {
      "model_module": "@jupyter-widgets/base",
      "model_module_version": "2.0.0",
      "model_name": "LayoutModel",
      "state": {}
     },
     "a7543c2c4b5048eda95b4dfd405279a0": {
      "model_module": "anywidget",
      "model_module_version": "~0.9.*",
      "model_name": "AnyModel",
      "state": {
       "_anywidget_id": "__main__.Widget",
       "_esm": "\n    export function render({ model, el }) {\n        const btn = document.createElement(\"button\");\n        btn.innerText = `Count is ${model.get(\"count\")}`;\n        btn.addEventListener(\"click\", () => {\n            console.log(\"clicked\");\n        });\n        el.appendChild(btn);\n    }\n    ",
       "_model_module": "anywidget",
       "_model_module_version": "~0.9.*",
       "_model_name": "AnyModel",
       "_view_module": "anywidget",
       "_view_module_version": "~0.9.*",
       "_view_name": "AnyView",
       "count": 0,
       "layout": "IPY_MODEL_0a773248b05647609f77ead0cca63aaf"
      }
     },
     "b1530d6124ad4f37a6486ce697aac192": {
      "model_module": "@jupyter-widgets/base",
      "model_module_version": "2.0.0",
      "model_name": "LayoutModel",
      "state": {}
     },
     "b3fc3445d9424c03b106aab9403bd81a": {
      "model_module": "anywidget",
      "model_module_version": "~0.9.*",
      "model_name": "AnyModel",
      "state": {
       "_anywidget_id": "__main__.Widget",
       "_esm": "\n    export function render({ model, el }) {\n        const btn = document.createElement(\"button\");\n        btn.innerText = `Count is ${model.get(\"count\")}`;\n        btn.addEventListener(\"click\", () => {\n            const new_count = model.get(\"count\") + 1;\n            btn.innerText = `Count is ${new_count}`;\n            model.set(\"count\", new_count);\n            model.save_changes();\n        });\n        el.appendChild(btn);\n    }\n    ",
       "_model_module": "anywidget",
       "_model_module_version": "~0.9.*",
       "_model_name": "AnyModel",
       "_view_module": "anywidget",
       "_view_module_version": "~0.9.*",
       "_view_name": "AnyView",
       "count": 0,
       "layout": "IPY_MODEL_194387eece1449f7a1bfc181b9b26b12"
      }
     },
     "bead7e47183b484bae9b63690f15d5a7": {
      "model_module": "@jupyter-widgets/base",
      "model_module_version": "2.0.0",
      "model_name": "LayoutModel",
      "state": {}
     },
     "c88acfc891c74d3ea6db78e209c12761": {
      "model_module": "anywidget",
      "model_module_version": "~0.9.*",
      "model_name": "AnyModel",
      "state": {
       "_anywidget_id": "__main__.Widget",
       "_esm": "\n    export function render({ model, el }) {\n        const h1 = document.createElement(\"h1\");\n        h1.innerText = `Hello, ${model.get(\"name\")}`;\n        el.appendChild(h1);\n    }\n    ",
       "_model_module": "anywidget",
       "_model_module_version": "~0.9.*",
       "_model_name": "AnyModel",
       "_view_module": "anywidget",
       "_view_module_version": "~0.9.*",
       "_view_name": "AnyView",
       "layout": "IPY_MODEL_74cc123c2c7641149fcbd962f382b7a2",
       "name": ""
      }
     },
     "ce027ae769b54432b04a1ed122f022bd": {
      "model_module": "anywidget",
      "model_module_version": "~0.9.*",
      "model_name": "AnyModel",
      "state": {
       "_anywidget_id": "__main__.Widget",
       "_esm": "\n    function render() {\n      // Task: print \"Hello from anywidget!\" to the browser console\n      \n    }\n    export deafult { render }\n    ",
       "_model_module": "anywidget",
       "_model_module_version": "~0.9.*",
       "_model_name": "AnyModel",
       "_view_module": "anywidget",
       "_view_module_version": "~0.9.*",
       "_view_name": "AnyView",
       "layout": "IPY_MODEL_9c4ce6254e55468a86d82844ded0b42b"
      }
     },
     "cee826f3b16b4ecdb16cb456fca4bc64": {
      "model_module": "@jupyter-widgets/base",
      "model_module_version": "2.0.0",
      "model_name": "LayoutModel",
      "state": {}
     },
     "e477d200cdd0451ea6d3b392952f20fa": {
      "model_module": "anywidget",
      "model_module_version": "~0.9.*",
      "model_name": "AnyModel",
      "state": {
       "_anywidget_id": "__main__.Widget",
       "_esm": "\n    export function render({ model, el }) {\n        const btn = document.createElement(\"button\");\n        btn.innerText = `Count is ${model.get(\"count\")}`;\n        el.appendChild(btn);\n    }\n    ",
       "_model_module": "anywidget",
       "_model_module_version": "~0.9.*",
       "_model_name": "AnyModel",
       "_view_module": "anywidget",
       "_view_module_version": "~0.9.*",
       "_view_name": "AnyView",
       "count": 0,
       "layout": "IPY_MODEL_bead7e47183b484bae9b63690f15d5a7"
      }
     },
     "f788f503c06f407d94866651b7ff827d": {
      "model_module": "anywidget",
      "model_module_version": "~0.9.*",
      "model_name": "AnyModel",
      "state": {
       "_anywidget_id": "__main__.Widget",
       "_esm": "\n    export function render({ model, el }) {\n        const h1 = document.createElement(\"h1\");\n        h1.innerText = \"Hello, anywidget!\";\n        el.appendChild(h1);\n    }\n    ",
       "_model_module": "anywidget",
       "_model_module_version": "~0.9.*",
       "_model_name": "AnyModel",
       "_view_module": "anywidget",
       "_view_module_version": "~0.9.*",
       "_view_name": "AnyView",
       "layout": "IPY_MODEL_cee826f3b16b4ecdb16cb456fca4bc64"
      }
     },
     "fa8e49642ade4d25b9fc899aa5d9a777": {
      "model_module": "anywidget",
      "model_module_version": "~0.9.*",
      "model_name": "AnyModel",
      "state": {
       "_anywidget_id": "__main__.Widget",
       "_esm": "\n    export function render({ el }) {\n\n    }\n    export default { render };\n    ",
       "_model_module": "anywidget",
       "_model_module_version": "~0.9.*",
       "_model_name": "AnyModel",
       "_view_module": "anywidget",
       "_view_module_version": "~0.9.*",
       "_view_name": "AnyView",
       "layout": "IPY_MODEL_b1530d6124ad4f37a6486ce697aac192"
      }
     }
    },
    "version_major": 2,
    "version_minor": 0
   }
  }
 },
 "nbformat": 4,
 "nbformat_minor": 5
}
