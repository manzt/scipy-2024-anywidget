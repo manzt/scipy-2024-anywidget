{
 "cells": [
  {
   "cell_type": "markdown",
   "id": "bca63363-a351-4e0a-814a-8759fd46961f",
   "metadata": {},
   "source": [
    "# ipymario: from a tweet to anywidget\n",
    "\n",
    "In this notebook, we'll take some fun code from [a tweet](https://x.com/mbostock/status/1765222176641437859) bring it into Jupyter using **anywidget**.\n",
    "\n",
    "Our goal is to illustrate how to _think_ about building Python APIs on top of existing front-end functionality. \n",
    "This process is essential when connecting a JavaScript library to Python.\n",
    "\n",
    "We'll reinforce much of what we learned from the previous section and cover new concepts like:\n",
    "\n",
    "- Custom messages\n",
    "- Sending binary data\n",
    "- Project organization\n",
    "\n",
    "This will help you understand the process of exposing JavaScript functionality through Python, creating a fun and interactive widget along the way."
   ]
  },
  {
   "cell_type": "markdown",
   "id": "981403b6-9992-478a-b8bb-3a4eb594c291",
   "metadata": {},
   "source": [
    "## The tweet\n",
    "\n",
    "Ok, what the heck is this?\n",
    "\n",
    "```javascript\n",
    "c=new AudioContext(),g=c.createGain(),o=c.createOscillator(),G=g.gain,\n",
    "of=o.frequency,g.connect(c.destination),G.value=0.1,G.linearRampToValueAtTime(0,1),\n",
    "o.connect(g),o.type=\"square\",of.setValueAtTime(988,0),of.setValueAtTime(1319,0.08),\n",
    "o.start(),o.stop(1)\n",
    "```\n",
    "\n",
    "When I first saw this code a couple of things stood out to me. First it was authored by Mike Bostock, the creator of Observable and D3, and second it makes use of [`AudioContext`](https://developer.mozilla.org/en-US/docs/Web/API/AudioContext), which is a part of the [Web Audio API](https://developer.mozilla.org/en-US/docs/Web/API/Web_Audio_API). The Web Audio API allows creating and controlling audio in web applications and is supported by all modern browsers.\n",
    "\n",
    "I generally wouldn't recommend copying and pasting code into the browser (or terminal) like this, but I let my interest get the best of me and ran the code...\n",
    "\n",
    "~ **mario chime** ~\n",
    "\n",
    "Ah, it makes a fun chime noise! We can use that.\n"
   ]
  },
  {
   "cell_type": "markdown",
   "id": "3bcd09fd-c38a-4b37-827b-803f25803e71",
   "metadata": {},
   "source": [
    "[Web APIs](https://developer.mozilla.org/en-US/docs/Web/API) like the Web Audio API are cool because they are \n",
    "built right into the browser and allow accessing various system features without extra software. \n",
    "\n",
    "As such, this snippet is a nice demo because we don't need to install anything or\n",
    "learn some third-party API. We can build an example from scratch.\n",
    "\n",
    "I took the time to deobfuscate this code so that it is more readable:\n",
    "\n",
    "```javascript\n",
    "/** Makes a Mario chime sound using web `AudioContext` API. */\n",
    "function chime() {\n",
    "  let c = new AudioContext();\n",
    "  let g = c.createGain();\n",
    "  let o = c.createOscillator();\n",
    "  let of = o.frequency;\n",
    "  g.connect(c.destination);\n",
    "  g.gain.value = 0.1;\n",
    "  g.gain.linearRampToValueAtTime(0, 1);\n",
    "  o.connect(g);\n",
    "  o.type = \"square\";\n",
    "  of.setValueAtTime(988, 0);\n",
    "  of.setValueAtTime(1319, 0.08);\n",
    "  o.start();\n",
    "  o.stop(1);\n",
    "}\n",
    "```\n",
    "\n",
    "Now we can get a better sense of what is going on."
   ]
  },
  {
   "cell_type": "markdown",
   "id": "e3930957-ed1e-4d5f-8c36-41430591a525",
   "metadata": {},
   "source": [
    "## Bringing it in a notebook\n",
    "\n",
    "To get started, let's take this JavaScript function and bring it into a widget `_esm`. \n",
    "Our goal initially is to \"just get it working.\"\n",
    "\n",
    "We can start by import anywidget and traitlets and build up our demo like before."
   ]
  },
  {
   "cell_type": "code",
   "execution_count": null,
   "id": "283fe081-1db1-41d4-bb61-873ebdd964e0",
   "metadata": {},
   "outputs": [],
   "source": [
    "import anywidget\n",
    "import traitlets"
   ]
  },
  {
   "cell_type": "code",
   "execution_count": null,
   "id": "fa5fa602-6a49-4b83-81eb-8c670a038191",
   "metadata": {},
   "outputs": [],
   "source": [
    "# Exercise 1\n",
    "\n",
    "class Widget(anywidget.AnyWidget):\n",
    "    ...\n",
    "\n",
    "Widget()"
   ]
  },
  {
   "cell_type": "markdown",
   "id": "3674e228-2840-4030-86f8-c4ac0c99b12b",
   "metadata": {},
   "source": [
    "**Exercise 1**: Create a widget that chimes when it is displayed."
   ]
  },
  {
   "cell_type": "code",
   "execution_count": null,
   "id": "0873f363-af19-4c45-a005-d823d41a216a",
   "metadata": {},
   "outputs": [],
   "source": [
    "%load ./answers/03-01.py"
   ]
  },
  {
   "cell_type": "markdown",
   "id": "6622c723-e76a-4786-a8a8-a04ade45c081",
   "metadata": {},
   "source": [
    "## Create button to trigger the chime\n",
    "\n",
    "Right now our widget is pretty simple. It just chimes anytime we display the widget, but there \n",
    "currently isn't a way to trigger the `chime` from Python or a user interaction. \n",
    "\n",
    "Let's change that!"
   ]
  },
  {
   "cell_type": "code",
   "execution_count": null,
   "id": "e05f83ba-815b-439b-ab2b-476431c50559",
   "metadata": {},
   "outputs": [],
   "source": [
    "# Exercise 2\n"
   ]
  },
  {
   "cell_type": "markdown",
   "id": "91969769-3aa4-4e6e-a8a4-f03f47ff5b54",
   "metadata": {},
   "source": [
    "**Exercise 2**: Extend the answer from  **Exercise 1** with the following features:\n",
    "\n",
    "- Create a `button` element and _append_ it to the output cell\n",
    "- Set the `button` text to \"It's me, Mario!\"\n",
    "- Add a \"click\" event listener to the button that calls `chime` every time the button is clicked"
   ]
  },
  {
   "cell_type": "code",
   "execution_count": null,
   "id": "afe0839f-95de-4eb7-b129-1bae48d0ce66",
   "metadata": {},
   "outputs": [],
   "source": [
    "%load ./answers/03-02.py"
   ]
  },
  {
   "cell_type": "markdown",
   "id": "108c02b4-d30c-4b11-8b9e-fc69bc1bdd7e",
   "metadata": {},
   "source": [
    "## Parameterize the chime with traitlets\n",
    "\n",
    "Looking closer at the `chime` function, there are a few hard-coded values that we can move up into configurable properties. \n",
    "Specifically, we can expose the:\n",
    "\n",
    "- `gain` (how loud the chime is)\n",
    "- `duration` (how long the sound lasts)\n",
    "\n",
    "to the Python side.\n",
    "\n",
    "First, we'll modify the `chime` function to accept these two parameters:\n",
    "\n",
    "```javascript\n",
    "function chime({ duration, gain }) { // <---- NEW!\n",
    "  let c = new AudioContext();\n",
    "  let g = c.createGain();\n",
    "  let o = c.createOscillator();\n",
    "  let of = o.frequency;\n",
    "  g.connect(c.destination);\n",
    "  g.gain.value = gain; // <---- NEW!\n",
    "  g.gain.linearRampToValueAtTime(0, duration); // <---- NEW!\n",
    "  o.connect(g);\n",
    "  o.type = \"square\";\n",
    "  of.setValueAtTime(988, 0);\n",
    "  of.setValueAtTime(1319, 0.08);\n",
    "  o.start();\n",
    "  o.stop(duration); // <---- NEW!\n",
    "}\n",
    "```\n",
    "\n",
    "We can then update our original widget code to use the parameterized function:"
   ]
  },
  {
   "cell_type": "code",
   "execution_count": null,
   "id": "888c5db8-9207-41ca-b1db-cb41c52aadcd",
   "metadata": {},
   "outputs": [],
   "source": [
    "# Exercise 3\n",
    "\n",
    "class Widget(anywidget.AnyWidget):\n",
    "    _esm = \"\"\"\n",
    "    function chime({ duration, gain }) { // <---- NEW!\n",
    "      let c = new AudioContext();\n",
    "      let g = c.createGain();\n",
    "      let o = c.createOscillator();\n",
    "      let of = o.frequency;\n",
    "      g.connect(c.destination);\n",
    "      g.gain.value = gain; // <---- NEW!\n",
    "      g.gain.linearRampToValueAtTime(0, duration); // <---- NEW!\n",
    "      o.connect(g);\n",
    "      o.type = \"square\";\n",
    "      of.setValueAtTime(988, 0);\n",
    "      of.setValueAtTime(1319, 0.08);\n",
    "      o.start();\n",
    "      o.stop(duration); // <---- NEW!\n",
    "    }\n",
    "    function render({ el }) {\n",
    "      const btn = document.createElement(\"button\");\n",
    "      btn.innerText = \"It's me Mario!\";\n",
    "      btn.addEventListener(\"click\", () => {\n",
    "        chime({ duration: 1.0, gain: 0.1 }); // <---- NEW!\n",
    "      });\n",
    "      el.appendChild(btn);\n",
    "    }\n",
    "    export default { render };\n",
    "    \"\"\"\n",
    "\n",
    "widget = Widget()\n",
    "widget"
   ]
  },
  {
   "cell_type": "markdown",
   "id": "3c15cebc-572e-4d8c-add1-8579b86308a9",
   "metadata": {},
   "source": [
    "Now the function is working, but we have hard-coded the values still on the JavaScript side.\n",
    "\n",
    "**Exercise 3**: Using your knowledge about traitlets, modify the snippet to turn `duration` and `gain` \n",
    "within the button click handler into pieces of shared state."
   ]
  },
  {
   "cell_type": "markdown",
   "id": "daf186f7-893f-4418-858b-f088df424039",
   "metadata": {},
   "source": [
    "Once we've set the traitlets, we can now adjust the `duration` and `gain` from other notebook cells."
   ]
  },
  {
   "cell_type": "code",
   "execution_count": null,
   "id": "a697e27f-2dd1-4682-bf0e-2d8de740837a",
   "metadata": {},
   "outputs": [],
   "source": [
    "widget.duration = 2 # long duration"
   ]
  },
  {
   "cell_type": "code",
   "execution_count": null,
   "id": "37465709-4991-4e06-920a-8f04af229507",
   "metadata": {},
   "outputs": [],
   "source": [
    "widget.gain = 0.2 # be careful with this one it can get loud!"
   ]
  },
  {
   "cell_type": "code",
   "execution_count": null,
   "id": "fddd987b-7c39-4541-bfd5-cf710395b947",
   "metadata": {},
   "outputs": [],
   "source": [
    "%load ./answers/03-03.py"
   ]
  },
  {
   "cell_type": "markdown",
   "id": "5051a8c4-2914-4961-a729-a1d34230a65c",
   "metadata": {},
   "source": [
    "## \"Click\" the button from Python\n",
    "\n",
    "Currently, we can only trigger `chime` by manually pressing the button. It would be useful to programmatically \"click\" the button from Python:\n",
    "\n",
    "```python\n",
    "widget.click() # triggers the sound\n",
    "```\n",
    "\n",
    "To achieve this, we use the `AnyWidget.send` API. Unlike traitlets, send allows communication between the front end and back end without syncing state. Since a click event isn't state we want to store, `send` is appropriate.\n",
    "\n",
    "On the Python side, we can emit messages with `AnyWidget.send` and then on the front-end side we need to be ready to listen to those messages. We can subscribe to all messages send to the front-end model with\n",
    "\"msg:custom\" event name.\n",
    "\n",
    "### Logger widget\n",
    "\n",
    "The most simple example of a widget using `send` is one that forwards messages to the browser `console`."
   ]
  },
  {
   "cell_type": "code",
   "execution_count": null,
   "id": "a49aadb7-d7c1-40d9-84e4-02deb5c4d738",
   "metadata": {},
   "outputs": [],
   "source": [
    "class Console(anywidget.AnyWidget):\n",
    "    _esm = \"\"\"\n",
    "    function render({ model }) {\n",
    "      model.on(\"msg:custom\", (msg) => {\n",
    "        console.log(msg);\n",
    "      })\n",
    "    }\n",
    "    export default { render }\n",
    "    \"\"\"\n",
    "\n",
    "console = ConsoleLogger()\n",
    "console # display so we run `render`"
   ]
  },
  {
   "cell_type": "code",
   "execution_count": null,
   "id": "be7c1a91-5c7c-4456-8b81-95f88fde9a44",
   "metadata": {},
   "outputs": [],
   "source": [
    "# open the browser console and run the next cell\n",
    "console.send(\"hello\")"
   ]
  },
  {
   "cell_type": "code",
   "execution_count": null,
   "id": "63abab27-a2d9-4a23-be57-5355cb34a603",
   "metadata": {},
   "outputs": [],
   "source": [
    "# but we can kind of send anything we want.... \n",
    "console.send({ \"foo\": \"bar\" }) "
   ]
  },
  {
   "cell_type": "markdown",
   "id": "01773edb-ca8a-43f8-b3c0-44eace5757aa",
   "metadata": {},
   "source": [
    "`send` is a fairly low-level API, so it's not generally recommended to have end users call send directly. Instead, we can implement a function on `Console` that wraps send in a controlled manner:"
   ]
  },
  {
   "cell_type": "code",
   "execution_count": null,
   "id": "9388474f-719a-4daf-99d2-42dcd619000d",
   "metadata": {},
   "outputs": [],
   "source": [
    "class Console(anywidget.AnyWidget):\n",
    "    _esm = \"\"\"\n",
    "    function render({ model }) {\n",
    "      model.on(\"msg:custom\", (msg) => {\n",
    "        if (msg?.kind === \"message\") {\n",
    "          console.log(msg.data);\n",
    "         }\n",
    "      });\n",
    "    }\n",
    "    export default { render }\n",
    "    \"\"\"\n",
    "\n",
    "    def log(self, message: str):\n",
    "        # we only receive messages of kind==\"message\" on the front end, \n",
    "        # ignore everything else\n",
    "        self.send({ \"kind\": \"message\", \"data\": message })\n",
    "\n",
    "console = Console()\n",
    "console # display so we run `render`"
   ]
  },
  {
   "cell_type": "code",
   "execution_count": null,
   "id": "99bd3c95-bba4-45ba-a206-8f13b9ddff05",
   "metadata": {},
   "outputs": [],
   "source": [
    "console.log(\"woohoooo!\")"
   ]
  },
  {
   "cell_type": "markdown",
   "id": "f2ce587d-1241-41fa-a562-1dd78b3c0f06",
   "metadata": {},
   "source": [
    "This is much clearer and hides the fact that we are using send under the hood.\n",
    "\n",
    "### Implementing `.click()`\n",
    "\n",
    "Let's go back to our mario example and implement the goal:\n",
    "\n",
    "```python\n",
    "widget.click() # clicks the button\n",
    "```"
   ]
  },
  {
   "cell_type": "code",
   "execution_count": null,
   "id": "4b0a2551-5054-4b6d-913e-fea0f7bed73d",
   "metadata": {},
   "outputs": [],
   "source": [
    "# Example 4\n",
    "\n",
    "class Widget(anywidget.AnyWidget):\n",
    "    _esm = \"\"\"\n",
    "    function chime({ duration, gain }) {\n",
    "      let c = new AudioContext();\n",
    "      let g = c.createGain();\n",
    "      let o = c.createOscillator();\n",
    "      let of = o.frequency;\n",
    "      g.connect(c.destination);\n",
    "      g.gain.value = gain;\n",
    "      g.gain.linearRampToValueAtTime(0, duration);\n",
    "      o.connect(g);\n",
    "      o.type = \"square\";\n",
    "      of.setValueAtTime(988, 0);\n",
    "      of.setValueAtTime(1319, 0.08);\n",
    "      o.start();\n",
    "      o.stop(duration);\n",
    "    }\n",
    "    function render({ model, el }) {\n",
    "      const btn = document.createElement(\"button\");\n",
    "      btn.innerText = \"It's me Mario!\";\n",
    "      btn.addEventListener(\"click\", () => {\n",
    "        chime({ duration: model.get(\"duration\"), gain: model.get(\"gain\") });\n",
    "      });\n",
    "      el.appendChild(btn);\n",
    "    }\n",
    "    export default { render };\n",
    "    \"\"\"\n",
    "    duration = traitlets.Float(1.0).tag(sync=True)\n",
    "    gain = traitlets.Float(0.1).tag(sync=True)\n",
    "\n",
    "    def click(self):\n",
    "        # TODO\n",
    "        ...\n",
    "\n",
    "widget = Widget()\n",
    "widget"
   ]
  },
  {
   "cell_type": "markdown",
   "id": "4c2cf860-4ce1-4aea-95a5-03ad8290e04c",
   "metadata": {},
   "source": [
    "**Exercise 4**: Implement `Widget.click()` using the `send` API.\n",
    "\n",
    "> Hint: HTMLElement's like our `btn` have a [`.click()` method](https://developer.mozilla.org/en-US/docs/Web/API/HTMLElement/click) to synthetically trigger a click event from JavaScript."
   ]
  },
  {
   "cell_type": "code",
   "execution_count": null,
   "id": "11e83cba-7a74-40a7-b74f-09128e58c528",
   "metadata": {},
   "outputs": [],
   "source": [
    "# Running this cell should trigger and a noise\n",
    "widget.click()"
   ]
  },
  {
   "cell_type": "code",
   "execution_count": null,
   "id": "ead717c1-dc5d-4ac9-b453-61152a10da3f",
   "metadata": {},
   "outputs": [],
   "source": [
    "%load ./answers/03-04.py"
   ]
  },
  {
   "cell_type": "markdown",
   "id": "3019da45-7913-4765-8b67-9f56d72e5e82",
   "metadata": {},
   "source": [
    "## Code reorganization and anywidget HMR\n",
    "\n",
    "Our widget is coming together, but this JavaScript string is getting unwieldy and hard to read. With **anywidget**, we can transition from inline strings to separate files as the project grows.\n",
    "\n",
    "Let's start by moving the JavaScript code to a separate file called `index.js` in this directory. You can either do so manually or by executing the following cell:"
   ]
  },
  {
   "cell_type": "code",
   "execution_count": null,
   "id": "6da6d9b1-e2f6-4c09-b858-f9a1ffa4e138",
   "metadata": {},
   "outputs": [],
   "source": [
    "with open(\"index.js\", \"w\") as f:\n",
    "    f.write(\"\"\"\n",
    "function chime({ duration, gain }) {\n",
    "  let c = new AudioContext();\n",
    "  let g = c.createGain();\n",
    "  let o = c.createOscillator();\n",
    "  let of = o.frequency;\n",
    "  g.connect(c.destination);\n",
    "  g.gain.value = gain;\n",
    "  g.gain.linearRampToValueAtTime(0, duration);\n",
    "  o.connect(g);\n",
    "  o.type = \"square\";\n",
    "  of.setValueAtTime(988, 0);\n",
    "  of.setValueAtTime(1319, 0.08);\n",
    "  o.start();\n",
    "  o.stop(duration);\n",
    "}\n",
    "function render({ model, el }) {\n",
    "  const btn = document.createElement(\"button\");\n",
    "  btn.innerText = \"It's me Mario!\";\n",
    "  btn.addEventListener(\"click\", () => {\n",
    "    chime({ duration: model.get(\"duration\"), gain: model.get(\"gain\") });\n",
    "  });\n",
    "  model.on(\"msg:custom\", (msg) => {\n",
    "    if (msg?.kind === \"click\") btn.click();\n",
    "  });\n",
    "  el.appendChild(btn);\n",
    "}\n",
    "export default { render };\n",
    "\"\"\")"
   ]
  },
  {
   "cell_type": "markdown",
   "id": "da33c3ae-746c-482b-b274-c71a419b649c",
   "metadata": {},
   "source": [
    "Open `index.js` in JupyterLab:\n",
    "\n",
    "- Open `index.js` in a separate pane.\n",
    "- Drag it to the right of the notebook.\n",
    "- You should have two panes, left and right, for editing code.\n",
    "\n",
    "We can then point to that new file from our `Widget` class in the notebook. Instead of providing the file contents as a string, we can use a file path for `_esm`:"
   ]
  },
  {
   "cell_type": "code",
   "execution_count": null,
   "id": "a4ee6579-2c7e-411f-b00d-f10d3b3f8df8",
   "metadata": {},
   "outputs": [],
   "source": [
    "class Widget(anywidget.AnyWidget):\n",
    "    _esm = \"index.js\"\n",
    "    duration = traitlets.Float(1.0).tag(sync=True)\n",
    "    gain = traitlets.Float(0.1).tag(sync=True)\n",
    "\n",
    "    def click(self):\n",
    "        self.send({ \"kind\": \"click\" })\n",
    "\n",
    "widget = Widget()\n",
    "widget"
   ]
  },
  {
   "cell_type": "markdown",
   "id": "c884c9c5-caf7-446b-924f-dda9ce12641d",
   "metadata": {},
   "source": [
    "That's much nicer. The JavaScript code has syntax highlighting and in a different editor, like VS Code, it also would have more type information and auto complete."
   ]
  },
  {
   "cell_type": "code",
   "execution_count": null,
   "id": "aa458dbb-7412-4bfa-b9b2-97520111d755",
   "metadata": {},
   "outputs": [],
   "source": [
    "widget.click()"
   ]
  },
  {
   "cell_type": "markdown",
   "id": "1e5336ce-acc2-4fff-ba7e-a5c06dc1634b",
   "metadata": {},
   "source": [
    "## Creating the brick (with numpy!)\n",
    "\n",
    "A common misconception about widgets is that they only support \n",
    "JSON-serializable data. However, the Jupyter Widgets Messaging \n",
    "Protocol also supports custom binary data. Both anywidget and \n",
    "ipywidgets can automatically handle custom binary data within \n",
    "JSON-serializable structures (e.g., `dict`, `list`). \n",
    "\n",
    "This feature allows you to pass binary data to and from the front \n",
    "end efficiently,  without needing to convert it to JSON or base64 encode it.\n",
    "\n",
    "Let's create a mario brick with `numpy` and send the underlying binary data directly\n",
    "to the front end using _binary serialization_.\n",
    "\n",
    "We can start by making the brick data:"
   ]
  },
  {
   "cell_type": "code",
   "execution_count": null,
   "id": "cea60ea4-a9ef-4465-83cb-8e23b30bcd65",
   "metadata": {},
   "outputs": [],
   "source": [
    "# fmt: off\n",
    "box = [\n",
    "    ['O', 'X', 'X', 'X', 'X', 'X', 'X', 'X', 'X', 'X', 'X', 'X', 'X', 'X', 'X', 'O'],\n",
    "    ['X', ' ', ' ', ' ', ' ', ' ', ' ', ' ', ' ', ' ', ' ', ' ', ' ', ' ', ' ', 'O'],\n",
    "    ['X', ' ', 'O', ' ', ' ', ' ', ' ', ' ', ' ', ' ', ' ', ' ', ' ', 'O', ' ', 'O'],\n",
    "    ['X', ' ', ' ', ' ', ' ', 'X', 'X', 'X', 'X', 'X', ' ', ' ', ' ', ' ', ' ', 'O'],\n",
    "    ['X', ' ', ' ', ' ', 'X', 'X', 'O', 'O', 'O', 'X', 'X', ' ', ' ', ' ', ' ', 'O'],\n",
    "    ['X', ' ', ' ', ' ', 'X', 'X', 'O', ' ', ' ', 'X', 'X', 'O', ' ', ' ', ' ', 'O'],\n",
    "    ['X', ' ', ' ', ' ', 'X', 'X', 'O', ' ', ' ', 'X', 'X', 'O', ' ', ' ', ' ', 'O'],\n",
    "    ['X', ' ', ' ', ' ', ' ', 'O', 'O', ' ', 'X', 'X', 'X', 'O', ' ', ' ', ' ', 'O'],\n",
    "    ['X', ' ', ' ', ' ', ' ', ' ', ' ', 'X', 'X', 'O', 'O', 'O', ' ', ' ', ' ', 'O'],\n",
    "    ['X', ' ', ' ', ' ', ' ', ' ', ' ', 'X', 'X', 'O', ' ', ' ', ' ', ' ', ' ', 'O'],\n",
    "    ['X', ' ', ' ', ' ', ' ', ' ', ' ', ' ', 'O', 'O', ' ', ' ', ' ', ' ', ' ', 'O'],\n",
    "    ['X', ' ', ' ', ' ', ' ', ' ', ' ', 'X', 'X', ' ', ' ', ' ', ' ', ' ', ' ', 'O'],\n",
    "    ['X', ' ', ' ', ' ', ' ', ' ', ' ', 'X', 'X', 'O', ' ', ' ', ' ', ' ', ' ', 'O'],\n",
    "    ['X', ' ', 'O', ' ', ' ', ' ', ' ', ' ', 'O', 'O', ' ', ' ', ' ', 'O', ' ', 'O'],\n",
    "    ['X', ' ', ' ', ' ', ' ', ' ', ' ', ' ', ' ', ' ', ' ', ' ', ' ', ' ', ' ', 'O'],\n",
    "    ['O', 'O', 'O', 'O', 'O', 'O', 'O', 'O', 'O', 'O', 'O', 'O', 'O', 'O', 'O', 'O'],\n",
    "]\n",
    "# fmt: on"
   ]
  },
  {
   "cell_type": "markdown",
   "id": "8480bac1-c358-40cd-9023-4b8f21d043ec",
   "metadata": {},
   "source": [
    "If you squink close enough you can kind of make out a question mark. We represent the brick data this way because it is easy to edit, but first we need to convert it into the correct RGBA array.\n",
    "\n",
    "We can do this by defining a colormapping of our symbols (`X`, ` `, `O`) to the RGBA colors they correspond to."
   ]
  },
  {
   "cell_type": "code",
   "execution_count": null,
   "id": "5bc28633-d8d0-4034-9b42-b9912ceee88b",
   "metadata": {},
   "outputs": [],
   "source": [
    "colors = {\n",
    "    \"O\": [0, 0, 0, 255],\n",
    "    \"X\": [247, 82, 0, 255],\n",
    "    \" \": [247, 186, 119, 255],\n",
    "}"
   ]
  },
  {
   "cell_type": "markdown",
   "id": "f077f4c7-451f-43dd-b057-e59fa4c83d29",
   "metadata": {},
   "source": [
    "Then using `numpy` we can get this nested array as a nice (16, 16, 4) RGBA array."
   ]
  },
  {
   "cell_type": "code",
   "execution_count": null,
   "id": "e736fc3e-6b59-4646-9102-cf5e565cc669",
   "metadata": {},
   "outputs": [],
   "source": [
    "import numpy as np\n",
    "\n",
    "np_box = np.array([[colors[c] for c in row] for row in box], dtype=np.uint8)\n",
    "np_box.shape"
   ]
  },
  {
   "cell_type": "markdown",
   "id": "11a5bf5b-a37e-4649-bc0e-3c6d85083e02",
   "metadata": {},
   "source": [
    "We can make sure we did everything correctly by plotting the brick quickly with matplotlib"
   ]
  },
  {
   "cell_type": "code",
   "execution_count": null,
   "id": "29b8e3ec-9e66-4263-81b0-10cc1a8a79fa",
   "metadata": {},
   "outputs": [],
   "source": [
    "import matplotlib.pyplot as plt\n",
    "\n",
    "plt.imshow(np_box)"
   ]
  },
  {
   "cell_type": "markdown",
   "id": "29e7f760-53cd-4060-9ca6-e1bd31e08f54",
   "metadata": {},
   "source": [
    "hooray!\n",
    "\n",
    "## Send brick data to the front end (binary data transfer)\n",
    "\n",
    "We can access the underlying binary data for our `uint8` numpy array using `np_box.tobytes()`, and send it to \n",
    "the front end with traitlets. On the front-end we can log out the data with:\n",
    "\n",
    "```javascript\n",
    "function render({ model }) {\n",
    "    console.log(model.get(\"_bytes\")\n",
    "}\n",
    "```"
   ]
  },
  {
   "cell_type": "code",
   "execution_count": null,
   "id": "1c5470a7-dc7d-4865-91bd-6794d52e174c",
   "metadata": {},
   "outputs": [],
   "source": [
    "# Exercise 5 \n",
    "\n",
    "class Widget(anywidget.AnyWidget):\n",
    "    _esm = \"index.js\"\n",
    "    duration = traitlets.Float(1.0).tag(sync=True)\n",
    "    gain = traitlets.Float(0.1).tag(sync=True)\n",
    "    \n",
    "    # our new traitlet\n",
    "    # _box = traitlets.Bytes(np_box.tobytes()).tag(sync=True)\n",
    "\n",
    "    def click(self):\n",
    "        self.send({ \"kind\": \"click\" })\n",
    "\n",
    "widget = Widget()\n",
    "widget"
   ]
  },
  {
   "cell_type": "markdown",
   "id": "6f59db08-deb0-4e36-9af3-b998d43e8531",
   "metadata": {},
   "source": [
    "**Exercise 5**: Send binary data to the front end\n",
    "\n",
    "- Uncomment the `_box` traitlet\n",
    "- Modify the `index.js` to `console.log` the value that you get back\n",
    "\n",
    "For the followind answers we only provde the JS code because the Python should be minimal. "
   ]
  },
  {
   "cell_type": "code",
   "execution_count": null,
   "id": "f2d5f433-6a1f-43ba-b8af-82c6a2800a61",
   "metadata": {},
   "outputs": [],
   "source": [
    "%load ./answers/03-05-index.js"
   ]
  },
  {
   "cell_type": "markdown",
   "id": "77356a5a-23e0-4432-9594-35af875b212c",
   "metadata": {},
   "source": [
    "## Drawing the data\n",
    "\n",
    "Now that we have the binary data in the front-end, we can render it \n",
    "using the [Web Canvas API](https://developer.mozilla.org/en-US/docs/Web/API/Canvas_API).\n",
    "\n",
    "This part of the tutorial has the most moving parts, so take your time with it. It's okay to skip if you prefer.\n",
    "\n",
    "First, we'll change our `button` element to a `canvas`. We want to replace our button and all its functionality with a different element. This involves modifying just a few lines of code. \n",
    "\n",
    "Step 1. Replace button with canvas\n",
    "\n",
    "```javascript\n",
    "function render({ model, el }) {\n",
    "  const canvas = document.createElement(\"canvas\");\n",
    "  canvas.addEventListener(\"click\", () => {\n",
    "    chime({ duration: model.get(\"duration\"), gain: model.get(\"gain\") });\n",
    "  });\n",
    "  model.on(\"msg:custom\", (msg) => {\n",
    "    if (msg?.kind === \"click\") canvas.click();\n",
    "  });\n",
    "  el.appendChild(canvas);\n",
    "}\n",
    "```\n",
    "\n"
   ]
  },
  {
   "cell_type": "markdown",
   "id": "5d34114c-232c-4f9b-a317-106aff75889d",
   "metadata": {},
   "source": [
    "Step 2. Use the Canvas API to render it.\n",
    "\n",
    "```javascript\n",
    "function render({ model, el }) {\n",
    "  const canvas = document.createElement(\"canvas\");\n",
    "\n",
    "  // NEW!\n",
    "  canvas.width = 16;\n",
    "  canvas.height = 16;\n",
    "  canvas.style.width = \"30px\"\n",
    "  canvas.style.height = \"30px\";\n",
    "\n",
    "  // NEW!\n",
    "  const bytes = new Uint8ClampedArray(\n",
    "    model.get(\"_box\").buffer,\n",
    "  );\n",
    "  const imgData = new ImageData(bytes, 16, 16);\n",
    "  const ctx = canvas.getContext(\"2d\");\n",
    "  ctx.putImageData(imgData, 0, 0);\n",
    "\n",
    "  // OLD!\n",
    "  canvas.addEventListener(\"click\", () => {\n",
    "    chime({ duration: model.get(\"duration\"), gain: model.get(\"gain\") });\n",
    "  });\n",
    "  model.on(\"msg:custom\", (msg) => {\n",
    "    if (msg?.kind === \"click\") canvas.click();\n",
    "  });\n",
    "  el.appendChild(canvas);\n",
    "}\n",
    "```\n",
    "\n",
    "This is quite a bit of code to digest and not something you need to fully understand today. \n",
    "\n",
    "**Exercise 6**: Apply the above changes to `index.js`. In the end, you should see a brick rendered in the output. You should be able to click the brick and hear the chime, just like the `button`."
   ]
  },
  {
   "cell_type": "code",
   "execution_count": null,
   "id": "439ce918-aebd-4f73-b925-c03f57e4926e",
   "metadata": {},
   "outputs": [],
   "source": [
    "# Exercise 6\n",
    "\n",
    "class Widget(anywidget.AnyWidget):\n",
    "    _esm = \"index.js\"\n",
    "    duration = traitlets.Float(1.0).tag(sync=True)\n",
    "    gain = traitlets.Float(0.1).tag(sync=True)\n",
    "    _box = traitlets.Bytes(np_box.tobytes()).tag(sync=True)\n",
    "\n",
    "    def click(self):\n",
    "        self.send({ \"kind\": \"click\" })\n",
    "\n",
    "widget = Widget()\n",
    "widget"
   ]
  },
  {
   "cell_type": "code",
   "execution_count": null,
   "id": "d38f9da5-822a-4ada-aeaf-289ec2cfe3e6",
   "metadata": {},
   "outputs": [],
   "source": [
    "%load ./answers/03-06.js"
   ]
  },
  {
   "cell_type": "markdown",
   "id": "6c522e59-ba97-49e3-b3a9-c88e80159d0e",
   "metadata": {},
   "source": [
    "## Animate the brick jumping\n",
    "\n",
    "To animate the brick jumping, we'll use CSS animations. While we won't go into the details for the sake of time, this demonstrates that it's possible to create complex interactions.\n",
    "\n",
    "**Define the CSS for the animation**: We'll add padding and set the `image-rendering` to pixelated to ensure the image stays pixelated. We'll also define a keyframe animation called `ipymario-bounce` that moves the brick up and down.\n",
    "\n",
    "```css\n",
    ".ipymario > canvas {\n",
    "    padding: 12px;\n",
    "    animation-fill-mode: both;\n",
    "    image-rendering: pixelated; /* Ensures the image stays pixelated */\n",
    "}\n",
    "\n",
    "@keyframes ipymario-bounce {\n",
    "  0%, 100% { transform: translateY(0); }\n",
    "  50% { transform: translateY(-12px); }\n",
    "}\n",
    "```\n",
    "\n",
    "**Add the animation to the canvas**: When the canvas is clicked, we'll trigger the chime and, if animation is enabled, temporarily remove any existing animation before applying the ipymario-bounce animation.\n",
    "\n",
    "```javascript\n",
    "\n",
    "  el.classList.add(\"ipymario\");\n",
    "  \n",
    "  canvas.addEventListener(\"click\", () => {\n",
    "    chime({  duration: model.get(\"duration\"),  gain: model.get(\"gain\") });\n",
    "    // Reset the animation\n",
    "    canvas.style.animation = \"none\";\n",
    "    setTimeout(() => {\n",
    "      canvas.style.animation = \"ipymario-bounce 0.2s\";\n",
    "    }, 10);\n",
    "  });\n",
    "\n",
    "```"
   ]
  },
  {
   "cell_type": "code",
   "execution_count": null,
   "id": "64916ab2-dacd-452d-9ff6-faceaed833a2",
   "metadata": {},
   "outputs": [],
   "source": [
    "# Exercise 7\n",
    "\n",
    "class Widget(anywidget.AnyWidget):\n",
    "    _esm = \"index.js\"\n",
    "    _css = \"styles.css\"\n",
    "    duration = traitlets.Float(1.0).tag(sync=True)\n",
    "    gain = traitlets.Float(0.1).tag(sync=True)\n",
    "    _box = traitlets.Bytes(np_box.tobytes()).tag(sync=True)\n",
    "\n",
    "    def click(self):\n",
    "        self.send({ \"kind\": \"click\" })\n",
    "\n",
    "widget = Widget()\n",
    "widget"
   ]
  },
  {
   "cell_type": "code",
   "execution_count": null,
   "id": "24ce8086-9dcb-45ce-87c7-bb1d0a9e6b0e",
   "metadata": {},
   "outputs": [],
   "source": [
    "%load ./answers/03-07.js"
   ]
  },
  {
   "cell_type": "code",
   "execution_count": null,
   "id": "58000dd7-2919-45a2-9335-768204f2ae04",
   "metadata": {},
   "outputs": [],
   "source": [
    "%load ./answers/03-07.css"
   ]
  }
 ],
 "metadata": {
  "kernelspec": {
   "display_name": "Python 3 (ipykernel)",
   "language": "python",
   "name": "python3"
  },
  "language_info": {
   "codemirror_mode": {
    "name": "ipython",
    "version": 3
   },
   "file_extension": ".py",
   "mimetype": "text/x-python",
   "name": "python",
   "nbconvert_exporter": "python",
   "pygments_lexer": "ipython3",
   "version": "3.12.4"
  },
  "widgets": {
   "application/vnd.jupyter.widget-state+json": {
    "state": {},
    "version_major": 2,
    "version_minor": 0
   }
  }
 },
 "nbformat": 4,
 "nbformat_minor": 5
}
