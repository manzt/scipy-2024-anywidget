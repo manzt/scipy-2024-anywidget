{
 "cells": [
  {
   "cell_type": "code",
   "execution_count": null,
   "metadata": {},
   "outputs": [],
   "source": [
    "import pathlib\n",
    "\n",
    "import anywidget\n",
    "import traitlets"
   ]
  },
  {
   "cell_type": "code",
   "execution_count": null,
   "metadata": {},
   "outputs": [],
   "source": [
    "class Clipboard(anywidget.AnyWidget):\n",
    "    _esm = pathlib.Path(__file__).parent / \"clipboard.js\"\n",
    "    value = traitlets.Unicode().tag(sync=True)"
   ]
  }
 ],
 "metadata": {
  "language_info": {
   "name": "python"
  }
 },
 "nbformat": 4,
 "nbformat_minor": 2
}
