{
 "cells": [
  {
   "cell_type": "code",
   "execution_count": 1,
   "metadata": {},
   "outputs": [],
   "source": [
    "import anywidget\n",
    "import traitlets"
   ]
  },
  {
   "cell_type": "code",
   "execution_count": 2,
   "metadata": {},
   "outputs": [],
   "source": [
    "class Detector(anywidget.AnyWidget):\n",
    "    _esm = \"./detector.js\"\n",
    "    height = traitlets.Int(150).tag(sync=True)\n",
    "    detections = traitlets.List().tag(sync=True)\n",
    "    color = traitlets.Unicode(\"red\").tag(sync=True)\n",
    "    landmark_color = traitlets.Unicode(\"blue\").tag(sync=True)\n",
    "    kind = traitlets.Enum([\"face\", \"barcode\"], default_value=\"barcode\").tag(sync=True)"
   ]
  },
  {
   "cell_type": "code",
   "execution_count": 4,
   "metadata": {},
   "outputs": [],
   "source": [
    "Detector(kind=\"barcode\")"
   ]
  },
  {
   "cell_type": "markdown",
   "metadata": {},
   "source": [
    "Note: to try out the Face Detector in Chrome, you'll need to turn on a browser flag:\n",
    "\n",
    "`chrome://flags/#enable-experimental-web-platform-features`\n",
    "\n",
    "And under `Experimental Web Platform features` select `Enabled` and restart the browser."
   ]
  },
  {
   "cell_type": "code",
   "execution_count": 5,
   "metadata": {},
   "outputs": [],
   "source": [
    "#Detector(kind=\"face\")"
   ]
  },
  {
   "cell_type": "code",
   "execution_count": null,
   "metadata": {},
   "outputs": [],
   "source": []
  }
 ],
 "metadata": {
  "kernelspec": {
   "display_name": "Python 3 (ipykernel)",
   "language": "python",
   "name": "python3"
  },
  "language_info": {
   "codemirror_mode": {
    "name": "ipython",
    "version": 3
   },
   "file_extension": ".py",
   "mimetype": "text/x-python",
   "name": "python",
   "nbconvert_exporter": "python",
   "pygments_lexer": "ipython3",
   "version": "3.12.4"
  }
 },
 "nbformat": 4,
 "nbformat_minor": 4
}
