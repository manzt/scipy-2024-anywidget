{
 "cells": [
  {
   "cell_type": "code",
   "execution_count": null,
   "metadata": {},
   "outputs": [],
   "source": [
    "import pathlib\n",
    "\n",
    "import anywidget\n",
    "import traitlets"
   ]
  },
  {
   "cell_type": "code",
   "execution_count": null,
   "metadata": {},
   "outputs": [],
   "source": [
    "class Detector(anywidget.AnyWidget):\n",
    "    _esm = pathlib.Path(__file__).parent / \"detector.js\"\n",
    "    height = traitlets.Int(150).tag(sync=True)\n",
    "    detections = traitlets.List().tag(sync=True)\n",
    "    color = traitlets.Unicode(\"red\").tag(sync=True)\n",
    "    landmark_color = traitlets.Unicode(\"blue\").tag(sync=True)\n",
    "    kind = traitlets.Enum([\"face\", \"barcode\"], default_value=\"barcode\").tag(sync=True)"
   ]
  }
 ],
 "metadata": {
  "language_info": {
   "name": "python"
  }
 },
 "nbformat": 4,
 "nbformat_minor": 2
}
