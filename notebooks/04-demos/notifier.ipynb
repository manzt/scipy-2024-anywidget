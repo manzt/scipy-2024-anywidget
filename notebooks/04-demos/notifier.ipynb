{
 "cells": [
  {
   "cell_type": "code",
   "execution_count": null,
   "metadata": {},
   "outputs": [],
   "source": [
    "import pathlib\n",
    "\n",
    "import anywidget\n",
    "import traitlets"
   ]
  },
  {
   "cell_type": "code",
   "execution_count": null,
   "metadata": {},
   "outputs": [],
   "source": [
    "class Notifier(anywidget.AnyWidget):\n",
    "    _esm = pathlib.Path(__file__).parent / \"notifier.js\"\n",
    "    _notification = traitlets.Dict(None, allow_none=True).tag(sync=True)\n",
    "\n",
    "    def notify(\n",
    "        self, message: str, *, body: str | None = None, image: str | bytes | None = None\n",
    "    ):\n",
    "        self._notification = {\"message\": message, \"body\": body, \"icon\": image}"
   ]
  }
 ],
 "metadata": {
  "language_info": {
   "name": "python"
  }
 },
 "nbformat": 4,
 "nbformat_minor": 2
}
