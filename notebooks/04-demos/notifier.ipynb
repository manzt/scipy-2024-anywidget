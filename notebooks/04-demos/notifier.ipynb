{
 "cells": [
  {
   "cell_type": "code",
   "execution_count": 1,
   "metadata": {},
   "outputs": [],
   "source": [
    "import anywidget\n",
    "import traitlets"
   ]
  },
  {
   "cell_type": "code",
   "execution_count": 2,
   "metadata": {},
   "outputs": [],
   "source": [
    "class Notifier(anywidget.AnyWidget):\n",
    "    _esm = \"./notifier.js\"\n",
    "    _notification = traitlets.Dict(None, allow_none=True).tag(sync=True)\n",
    "\n",
    "    def notify(\n",
    "        self, message: str, *, body: str | None = None, image: str | bytes | None = None\n",
    "    ):\n",
    "        self._notification = {\"message\": message, \"body\": body, \"icon\": image}"
   ]
  },
  {
   "cell_type": "code",
   "execution_count": 5,
   "metadata": {},
   "outputs": [],
   "source": [
    "notifier = Notifier()"
   ]
  },
  {
   "cell_type": "code",
   "execution_count": 8,
   "metadata": {},
   "outputs": [],
   "source": [
    "notifier.notify(\"Hello\", body=\"World\", image=\"https://cataas.com/cat\")"
   ]
  },
  {
   "cell_type": "code",
   "execution_count": null,
   "metadata": {},
   "outputs": [],
   "source": []
  }
 ],
 "metadata": {
  "kernelspec": {
   "display_name": "Python 3 (ipykernel)",
   "language": "python",
   "name": "python3"
  },
  "language_info": {
   "codemirror_mode": {
    "name": "ipython",
    "version": 3
   },
   "file_extension": ".py",
   "mimetype": "text/x-python",
   "name": "python",
   "nbconvert_exporter": "python",
   "pygments_lexer": "ipython3",
   "version": "3.12.4"
  }
 },
 "nbformat": 4,
 "nbformat_minor": 4
}
