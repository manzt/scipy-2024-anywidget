{
 "cells": [
  {
   "cell_type": "code",
   "execution_count": null,
   "id": "2a37035d-4228-46f0-8bc3-1ceba01db919",
   "metadata": {},
   "outputs": [],
   "source": [
    "from scipy_2024_anywidget.widgets import Clipboard\n",
    "\n",
    "w = Clipboard()"
   ]
  },
  {
   "cell_type": "code",
   "execution_count": null,
   "id": "42778c9c-85ca-458a-adb5-b985a36b8503",
   "metadata": {},
   "outputs": [],
   "source": [
    "w"
   ]
  },
  {
   "cell_type": "code",
   "execution_count": null,
   "id": "136b6d7a-5cac-41ac-9799-1b26f554a6f6",
   "metadata": {},
   "outputs": [],
   "source": [
    "w.value = \"foo\""
   ]
  }
 ],
 "metadata": {
  "kernelspec": {
   "display_name": "Python 3 (ipykernel)",
   "language": "python",
   "name": "python3"
  },
  "language_info": {
   "codemirror_mode": {
    "name": "ipython",
    "version": 3
   },
   "file_extension": ".py",
   "mimetype": "text/x-python",
   "name": "python",
   "nbconvert_exporter": "python",
   "pygments_lexer": "ipython3",
   "version": "3.12.2"
  },
  "widgets": {
   "application/vnd.jupyter.widget-state+json": {
    "state": {},
    "version_major": 2,
    "version_minor": 0
   }
  }
 },
 "nbformat": 4,
 "nbformat_minor": 5
}
