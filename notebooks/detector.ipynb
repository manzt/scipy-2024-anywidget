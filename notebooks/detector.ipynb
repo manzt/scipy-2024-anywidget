{
 "cells": [
  {
   "cell_type": "code",
   "execution_count": null,
   "id": "d7a8b914-2c0c-411b-8ff9-45369804727f",
   "metadata": {},
   "outputs": [],
   "source": [
    "from scipy_2024_anywidget.widgets import Detector\n",
    "import ipywidgets\n",
    "\n",
    "w = Detector(kind=\"face\")\n",
    "w"
   ]
  },
  {
   "cell_type": "code",
   "execution_count": null,
   "id": "6d9691f9-f087-4387-bad2-4a2e77d484c1",
   "metadata": {},
   "outputs": [],
   "source": [
    "ipywidgets.ColorPicker()"
   ]
  },
  {
   "cell_type": "code",
   "execution_count": null,
   "id": "644be3d4-0043-4144-a525-cf3f507bf3c1",
   "metadata": {},
   "outputs": [],
   "source": [
    "ipywidgets.link((_, \"value\"), (w, \"color\"))"
   ]
  },
  {
   "cell_type": "code",
   "execution_count": null,
   "id": "1dfd2cb5-49c6-46fc-a0e3-a5387de61a48",
   "metadata": {},
   "outputs": [],
   "source": [
    "ipywidgets.ColorPicker()"
   ]
  },
  {
   "cell_type": "code",
   "execution_count": null,
   "id": "fc7cec8b-a912-4ba9-871f-3ba030d88fb6",
   "metadata": {},
   "outputs": [],
   "source": [
    "ipywidgets.link((_, \"value\"), (w, \"landmark_color\"))"
   ]
  },
  {
   "cell_type": "code",
   "execution_count": null,
   "id": "563b1eaa-7ee0-438d-8b04-005a0fbc945a",
   "metadata": {},
   "outputs": [],
   "source": [
    "w.observe(lambda change: print(change.new), names=[\"detections\"])"
   ]
  }
 ],
 "metadata": {
  "kernelspec": {
   "display_name": "Python 3 (ipykernel)",
   "language": "python",
   "name": "python3"
  },
  "language_info": {
   "codemirror_mode": {
    "name": "ipython",
    "version": 3
   },
   "file_extension": ".py",
   "mimetype": "text/x-python",
   "name": "python",
   "nbconvert_exporter": "python",
   "pygments_lexer": "ipython3",
   "version": "3.12.2"
  },
  "widgets": {
   "application/vnd.jupyter.widget-state+json": {
    "state": {},
    "version_major": 2,
    "version_minor": 0
   }
  }
 },
 "nbformat": 4,
 "nbformat_minor": 5
}
