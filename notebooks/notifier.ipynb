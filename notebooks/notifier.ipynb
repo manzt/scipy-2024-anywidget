{
 "cells": [
  {
   "cell_type": "code",
   "execution_count": null,
   "id": "3d2b9f1b-3c63-4731-9fcc-b4f2193fb6f6",
   "metadata": {},
   "outputs": [],
   "source": [
    "from scipy_2024_anywidget.widgets import Notifier\n",
    "import time\n",
    "\n",
    "w = Notifier()\n",
    "\n",
    "for i in range(3, 0, -1):\n",
    "    time.sleep(0.5)\n",
    "    print(i)\n",
    "print(\"done\")\n",
    "\n",
    "w.notify(\"Experiment done!\", body=\"The simulation has finished in Jupyter\", image=\"https://cataas.com/cat\")"
   ]
  },
  {
   "cell_type": "code",
   "execution_count": null,
   "id": "28ba094d-ebf8-4668-b31e-22a8ad40c016",
   "metadata": {},
   "outputs": [],
   "source": []
  }
 ],
 "metadata": {
  "kernelspec": {
   "display_name": "Python 3 (ipykernel)",
   "language": "python",
   "name": "python3"
  },
  "language_info": {
   "codemirror_mode": {
    "name": "ipython",
    "version": 3
   },
   "file_extension": ".py",
   "mimetype": "text/x-python",
   "name": "python",
   "nbconvert_exporter": "python",
   "pygments_lexer": "ipython3",
   "version": "3.12.2"
  },
  "widgets": {
   "application/vnd.jupyter.widget-state+json": {
    "state": {},
    "version_major": 2,
    "version_minor": 0
   }
  }
 },
 "nbformat": 4,
 "nbformat_minor": 5
}
